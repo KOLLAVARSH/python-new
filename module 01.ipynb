{
  "nbformat": 4,
  "nbformat_minor": 0,
  "metadata": {
    "colab": {
      "name": "Untitled6.ipynb",
      "provenance": [],
      "authorship_tag": "ABX9TyNu/31z2l9mgjTnukcbr792",
      "include_colab_link": true
    },
    "kernelspec": {
      "name": "python3",
      "display_name": "Python 3"
    },
    "language_info": {
      "name": "python"
    }
  },
  "cells": [
    {
      "cell_type": "markdown",
      "metadata": {
        "id": "view-in-github",
        "colab_type": "text"
      },
      "source": [
        "<a href=\"https://colab.research.google.com/github/KOLLAVARSH/python-new/blob/Module1/module%2001.ipynb\" target=\"_parent\"><img src=\"https://colab.research.google.com/assets/colab-badge.svg\" alt=\"Open In Colab\"/></a>"
      ]
    },
    {
      "cell_type": "code",
      "execution_count": null,
      "metadata": {
        "colab": {
          "base_uri": "https://localhost:8080/"
        },
        "id": "gRgQROPvdDpG",
        "outputId": "567b1e40-ba99-4e77-90d0-12829aadbc11"
      },
      "outputs": [
        {
          "output_type": "stream",
          "name": "stdout",
          "text": [
            "enter roll no :1058\n",
            "enter percent89\n",
            "1058\n",
            "89\n"
          ]
        }
      ],
      "source": [
        "#Accept input from user and store it in variable and print the value\n",
        "b = int(input(\"enter roll no :\"))\n",
        "c = int(input(\"enter percent\"))\n",
        "print(b)\n",
        "print(c)"
      ]
    },
    {
      "cell_type": "code",
      "source": [
        "#Accept input from user and store it in variable and print the value.\n",
        "x=int(input(\"enter a value\"))\n",
        "print(x)\n"
      ],
      "metadata": {
        "colab": {
          "base_uri": "https://localhost:8080/"
        },
        "id": "aLcTvc7H3g6U",
        "outputId": "e7851bd9-fbd4-4612-c114-61c4eb38b23e"
      },
      "execution_count": 1,
      "outputs": [
        {
          "output_type": "stream",
          "name": "stdout",
          "text": [
            "enter a value10\n",
            "10\n"
          ]
        }
      ]
    },
    {
      "cell_type": "code",
      "source": [
        "#Use of print statements and use of (.format )for printing different data types.\n",
        "a = \"name = KOLLA VARSH\"\n",
        "b = \"roll = VU21CSEN0101058\"\n",
        "c = \"branch = cse\"\n",
        "d = \"name {} roll {} branch{}\"\n",
        "print(d.format(a,b,c))\n"
      ],
      "metadata": {
        "colab": {
          "base_uri": "https://localhost:8080/"
        },
        "id": "U-wn2wKfe65R",
        "outputId": "af8b8c67-bedf-4140-eb0c-2b5067bc70c4"
      },
      "execution_count": null,
      "outputs": [
        {
          "output_type": "stream",
          "name": "stdout",
          "text": [
            "name name = KOLLA VARSH roll roll = VU21CSEN0101058 branchbranch = cse\n"
          ]
        }
      ]
    },
    {
      "cell_type": "code",
      "source": [
        "#Take 2 numbers as user input and add, multiply, divide, subtract, remainder and print\n",
        "#the output (Same operations on floating point input as well)\n",
        "a = int(input(\"enter the number\"))\n",
        "b = int(input(\"enter the numer\"))\n",
        "add = a + b\n",
        "sub = a - b\n",
        "mul = a * b\n",
        "div = a / b\n",
        "rem = a % b\n",
        "print(a)\n",
        "print(b)\n",
        "print(add)\n",
        "print(sub)\n",
        "print(mul)\n",
        "print(div)\n",
        "print(rem)"
      ],
      "metadata": {
        "colab": {
          "base_uri": "https://localhost:8080/"
        },
        "id": "fR2HSauzgroN",
        "outputId": "f4530aac-3940-4464-f90f-b8a68d7f0948"
      },
      "execution_count": null,
      "outputs": [
        {
          "output_type": "stream",
          "name": "stdout",
          "text": [
            "enter the number5\n",
            "enter the numer23\n",
            "5\n",
            "23\n",
            "28\n",
            "-18\n",
            "115\n",
            "0.21739130434782608\n",
            "5\n"
          ]
        }
      ]
    },
    {
      "cell_type": "code",
      "source": [
        "#Conversion of one unit to another (such as hours to minutes, miles to km and etc)\n",
        "a = int(input(\"enter hours\"))\n",
        "b = a * 60 \n",
        "print(b)\n",
        "\n",
        "a = int(input(\"enter km\"))\n",
        "b = a * 1.6\n",
        "print(b)"
      ],
      "metadata": {
        "colab": {
          "base_uri": "https://localhost:8080/"
        },
        "id": "grUg6RC2iVFc",
        "outputId": "52d0c9ae-78f8-40b4-cb7e-4076ccb23c58"
      },
      "execution_count": null,
      "outputs": [
        {
          "output_type": "stream",
          "name": "stdout",
          "text": [
            "enter hours5\n",
            "300\n",
            "enter km7\n",
            "11.200000000000001\n"
          ]
        }
      ]
    },
    {
      "cell_type": "code",
      "source": [
        "#Building a mathematical calculator that can perform operations according to user input.\n",
        "#Use decision making statement\n",
        "print(\"option 1 : addition\")\n",
        "print(\"option 2 : subtract\")\n",
        "print(\"option 3 : multiply\")\n",
        "print(\"option 4 : division\")\n",
        "option = int(input(\"enter the option\"))\n",
        "a = int(input(\"enter the number\"))\n",
        "b = int(input(\"enter the number\"))\n",
        "if (option == 1) :\n",
        "  c = a + b\n",
        "  print(c)\n",
        "elif (option == 2) :\n",
        " c = a - b\n",
        " print(c)\n",
        "elif (option == 3) :\n",
        " c = a * b\n",
        " print(c)\n",
        "else :\n",
        " c = a/b\n",
        " print(c)"
      ],
      "metadata": {
        "colab": {
          "base_uri": "https://localhost:8080/"
        },
        "id": "uPXawoqLkwoN",
        "outputId": "1a179531-b1f5-4454-aa90-dd44748d8e0f"
      },
      "execution_count": null,
      "outputs": [
        {
          "output_type": "stream",
          "name": "stdout",
          "text": [
            "option 1 : addition\n",
            "option 2 : subtract\n",
            "option 3 : multiply\n",
            "option 4 : division\n",
            "enter the option2\n",
            "enter the number4\n",
            "enter the number2\n",
            "2\n"
          ]
        }
      ]
    },
    {
      "cell_type": "code",
      "source": [
        "#Accepting 5 different subject marks from user and displaying the grade of the student\n",
        "csen = int(input(\"enter the marks\"))\n",
        "maths = int(input(\"enter the marks\"))\n",
        "che = int(input(\"enter the marks\"))\n",
        "workshop = int(input(\"enter the marks\"))\n",
        "clad = int(input(\"enter the marks\"))\n",
        "total = csen + maths + che + workshop + clad\n",
        "percent = total / 500 * 100\n",
        "print(percent)\n",
        "if (percent >= 90) :\n",
        "   print(\"A grade\")\n",
        "elif (percent >= 80) :\n",
        "   print(\"B grade\")\n",
        "elif (percent >= 70) :\n",
        "   print(\"c grade\")\n",
        "elif (percent >= 60) :\n",
        "   print(\"D grade\")\n",
        "elif (percent >= 50) :\n",
        "   print(\"E grade\")\n",
        "else :\n",
        "   print(\"fail\")"
      ],
      "metadata": {
        "colab": {
          "base_uri": "https://localhost:8080/"
        },
        "id": "2mhsQsKEm-4G",
        "outputId": "715b61dc-fa1c-42fe-dc93-099e6b9eb7be"
      },
      "execution_count": null,
      "outputs": [
        {
          "output_type": "stream",
          "name": "stdout",
          "text": [
            "enter the marks99\n",
            "enter the marks98\n",
            "enter the marks90\n",
            "enter the marks93\n",
            "enter the marks97\n",
            "95.39999999999999\n",
            "A grade\n"
          ]
        }
      ]
    },
    {
      "cell_type": "code",
      "source": [
        "#Printing all even numbers, odd numbers, count of even numbers, count of odd numbers\n",
        "#within a given range.\n",
        "range = int(input(\"Enter range of numbers: \"))\n",
        "a = 1\n",
        "even = []\n",
        "odd = []\n",
        "while a <= range:\n",
        "  if a % 2 == 0:\n",
        "    even.append (a)\n",
        "    a = a + 1\n",
        "  else:\n",
        "    odd.append (a)\n",
        "    a = a + 1\n",
        "print (\"Even numbers are \",even)\n",
        "print (\"Odd numbers are \",odd)\n",
        "print (\"Number of even number within the given range are \",len(even))\n",
        "print (\"Number of odd number within the given range are \",len(odd))"
      ],
      "metadata": {
        "colab": {
          "base_uri": "https://localhost:8080/"
        },
        "id": "bZ11ZvAQqJNq",
        "outputId": "c6b802fb-95e4-490b-9ecf-8c556b35c414"
      },
      "execution_count": null,
      "outputs": [
        {
          "output_type": "stream",
          "name": "stdout",
          "text": [
            "Enter range of numbers: 8\n",
            "Even numbers are  [2, 4, 6, 8]\n",
            "Odd numbers are  [1, 3, 5, 7]\n",
            "Number of even number within the given range are  4\n",
            "Number of odd number within the given range are  4\n"
          ]
        }
      ]
    },
    {
      "cell_type": "code",
      "source": [
        "#Use of print statements and use of (.format )for printing different data types\n",
        "x=134\n",
        "y=325.89\n",
        "z=5978j\n",
        "print(type(x))\n",
        "print(type(y))\n",
        "print(type(z))\n"
      ],
      "metadata": {
        "colab": {
          "base_uri": "https://localhost:8080/"
        },
        "id": "eo7zy7JV30fi",
        "outputId": "7894c0a2-b0d4-4757-c1c8-c357cd0785fd"
      },
      "execution_count": 2,
      "outputs": [
        {
          "output_type": "stream",
          "name": "stdout",
          "text": [
            "<class 'int'>\n",
            "<class 'float'>\n",
            "<class 'complex'>\n"
          ]
        }
      ]
    },
    {
      "cell_type": "code",
      "source": [
        "#Usage of mathematical functions in python like math.ceil, floor, fabs, fmod, trunc, pow, sqrt etc.\n",
        "import math\n",
        "x=2.4674\n",
        "print(math.ceil(x))\n",
        "y=3.6483\n",
        "print(math.floor(y))\n",
        "z=3.7859\n",
        "print(math.fabs(z))\n",
        "a=5.7386\n",
        "print(math.copysign(a,z))"
      ],
      "metadata": {
        "colab": {
          "base_uri": "https://localhost:8080/"
        },
        "id": "4-JoCm574Adt",
        "outputId": "0c0ade91-4d8a-48d9-e50d-27ef999288f4"
      },
      "execution_count": 3,
      "outputs": [
        {
          "output_type": "stream",
          "name": "stdout",
          "text": [
            "3\n",
            "3\n",
            "3.7859\n",
            "5.7386\n"
          ]
        }
      ]
    },
    {
      "cell_type": "code",
      "source": [
        "#Compute compound interest using loop for a certain principal and interest amount\n",
        "p = float(input(\"Enter the principal amount : \"))\n",
        "t = float(input(\"Enter the number of years : \"))\n",
        "r = float(input(\"Enter the rate of interest : \"))\n",
        "ci = p * (pow((1 + r / 100), t))\n",
        "print(\"Compound interest : {}\".format(ci))"
      ],
      "metadata": {
        "colab": {
          "base_uri": "https://localhost:8080/"
        },
        "id": "Q-yoxH4j4rGT",
        "outputId": "ae018dd3-f543-409b-854e-31a1085af1a3"
      },
      "execution_count": 4,
      "outputs": [
        {
          "output_type": "stream",
          "name": "stdout",
          "text": [
            "Enter the principal amount : 56\n",
            "Enter the number of years : 2\n",
            "Enter the rate of interest : 8\n",
            "Compound interest : 65.31840000000001\n"
          ]
        }
      ]
    },
    {
      "cell_type": "code",
      "source": [
        "#Compute the factorial of a given number. b) Compute GCD of two given numbers. c) Generate\n",
        "#Fibonacci series up to N numbers\n",
        "num =int(input())\n",
        "factorial = 1\n",
        "for i in range(1,num + 1):\n",
        "  factorial = factorial*i\n",
        "  print(\"The factorial of\",num,\"is\",factorial)\n",
        "def gcdfun (x, y):\n",
        "  if (y == 0):\n",
        "    return x\n",
        "  else:\n",
        "   return gcdfun (y, x % y)\n",
        "   x =int (input ())\n",
        "   y =int (input ())\n",
        "   num = gcdfun(x, y)\n",
        "   print(\"GCD of two number is: \")\n",
        "   print(num)"
      ],
      "metadata": {
        "colab": {
          "base_uri": "https://localhost:8080/"
        },
        "id": "8Z-jela25_XO",
        "outputId": "1a7ee957-d146-4137-c914-b209856742b3"
      },
      "execution_count": 10,
      "outputs": [
        {
          "output_type": "stream",
          "name": "stdout",
          "text": [
            "5\n",
            "The factorial of 5 is 1\n",
            "The factorial of 5 is 2\n",
            "The factorial of 5 is 6\n",
            "The factorial of 5 is 24\n",
            "The factorial of 5 is 120\n"
          ]
        }
      ]
    }
  ]
}