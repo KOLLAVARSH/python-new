{
  "nbformat": 4,
  "nbformat_minor": 0,
  "metadata": {
    "colab": {
      "name": "module2.ipynb",
      "provenance": [],
      "authorship_tag": "ABX9TyPEzIcT9e0ZNxHUrDN8ToT1",
      "include_colab_link": true
    },
    "kernelspec": {
      "name": "python3",
      "display_name": "Python 3"
    },
    "language_info": {
      "name": "python"
    }
  },
  "cells": [
    {
      "cell_type": "markdown",
      "metadata": {
        "id": "view-in-github",
        "colab_type": "text"
      },
      "source": [
        "<a href=\"https://colab.research.google.com/github/KOLLAVARSH/python-new/blob/Module2/Module2.ipynb\" target=\"_parent\"><img src=\"https://colab.research.google.com/assets/colab-badge.svg\" alt=\"Open In Colab\"/></a>"
      ]
    },
    {
      "cell_type": "code",
      "execution_count": null,
      "metadata": {
        "colab": {
          "base_uri": "https://localhost:8080/"
        },
        "id": "eTAaokt6niwJ",
        "outputId": "5bb29792-c82a-4ed6-e1be-57a5aedaf6da"
      },
      "outputs": [
        {
          "output_type": "stream",
          "name": "stdout",
          "text": [
            "['Green', 'White', 'Black']\n"
          ]
        }
      ],
      "source": [
        "# Program to print a specified list after removing the 0th, 4th and 5th elements.\n",
        "#Sample List : ['Red', 'Green', 'White', 'Black', 'Pink', 'Yellow'] \n",
        "\n",
        "sample = ['Red', 'Green', 'White', 'Black', 'Pink', 'Yellow'] \n",
        "sample.pop(0)\n",
        "sample.pop(3)\n",
        "sample.pop(3)\n",
        "print(sample)\n",
        "\n",
        "\n"
      ]
    },
    {
      "cell_type": "code",
      "source": [
        "##Create a function which accepts two inputs from the user and compute nCr\n",
        "\n",
        "def nCr(a,b):\n",
        "   return(fact(a)/(fact(b)\n",
        "                 *fact(a-b)))\n",
        "a=int(input(\"\"))\n",
        "b=int(input(\"\"))\n",
        "def fact(a):\n",
        "    rev=1\n",
        "    for i in range(2,a+1):\n",
        "      rev =rev*1\n",
        "    return rev\n",
        "print(int(nCr(a,b)))                "
      ],
      "metadata": {
        "colab": {
          "base_uri": "https://localhost:8080/"
        },
        "id": "IRw6q6PisBtw",
        "outputId": "57c88339-8287-4b8a-89fb-7172d70448a2"
      },
      "execution_count": null,
      "outputs": [
        {
          "output_type": "stream",
          "name": "stdout",
          "text": [
            "7\n",
            "9\n",
            "1\n"
          ]
        }
      ]
    },
    {
      "cell_type": "code",
      "source": [
        "##Program to get the difference between the two lists\n",
        "list1 = [1 , 3 , 5 , 7 , 9]\n",
        "list2 = [1 , 2 , 4 , 6 , 7, 8]\n",
        "x = set(list1)\n",
        "y = set(list2)\n",
        "def diff(x,y) :\n",
        "  p = x.difference(y)\n",
        "  q = y.difference(x)\n",
        "  r = list(p)\n",
        "  s = list(q)\n",
        "  g = r + s\n",
        "  print(g)\n",
        "diff(x,y)"
      ],
      "metadata": {
        "colab": {
          "base_uri": "https://localhost:8080/"
        },
        "id": "b1iKHQxtuNhq",
        "outputId": "7db16dc4-3de4-45dd-f5b4-410ae4835859"
      },
      "execution_count": null,
      "outputs": [
        {
          "output_type": "stream",
          "name": "stdout",
          "text": [
            "[9, 3, 5, 8, 2, 4, 6]\n"
          ]
        }
      ]
    },
    {
      "cell_type": "code",
      "source": [
        "##Program to find the second smallest number and second largest number in a list\n",
        "list = [4, 6, 9, 2, 1]\n",
        "def dc() :\n",
        "  a = sorted(list)\n",
        "  small2 = list[1]\n",
        "  large2 = list[-2]\n",
        "  print(small2)\n",
        "  print(large2)\n",
        "dc()\n",
        "\n"
      ],
      "metadata": {
        "colab": {
          "base_uri": "https://localhost:8080/"
        },
        "id": "RN0J6i-awPXB",
        "outputId": "c684044a-be6c-41e0-e5bd-3e296b56246b"
      },
      "execution_count": null,
      "outputs": [
        {
          "output_type": "stream",
          "name": "stdout",
          "text": [
            "6\n",
            "2\n"
          ]
        }
      ]
    },
    {
      "cell_type": "markdown",
      "source": [
        ""
      ],
      "metadata": {
        "id": "iftUCYnf5GoS"
      }
    },
    {
      "cell_type": "markdown",
      "source": [
        "## Given a list of numbers of list, write a Python program to create a list of tuple shaving first element as the number and second element as the square of the number"
      ],
      "metadata": {
        "id": "3lvL22WW5QOQ"
      }
    },
    {
      "cell_type": "code",
      "source": [
        "a = [6,7,8,9,1]\n",
        "b = []\n",
        "for i in a :\n",
        "  c = (i,i*i)\n",
        "  b.append(c)\n",
        "  c = tuple(b)\n",
        "print(c)\n",
        "\n"
      ],
      "metadata": {
        "colab": {
          "base_uri": "https://localhost:8080/"
        },
        "id": "DNuwQ7q25fkh",
        "outputId": "edce271e-78f3-47d7-8def-cdccf091dc35"
      },
      "execution_count": null,
      "outputs": [
        {
          "output_type": "stream",
          "name": "stdout",
          "text": [
            "((6, 36), (7, 49), (8, 64), (9, 81), (1, 1))\n"
          ]
        }
      ]
    },
    {
      "cell_type": "markdown",
      "source": [
        "#Given list of tuples, remove all the tuples with length K. Input : test_list = [(4, 5), (4, ), (8, 6, 7), (1, ), (3, 4, 6, 7)], K = 2 Output : [(4, ), (8, 6, 7), (1, ), (3, 4, 6, 7)] Explanation : (4, 5) of len = 2 is removed."
      ],
      "metadata": {
        "id": "IjwAGf387WYK"
      }
    },
    {
      "cell_type": "code",
      "source": [
        "a = [(4,5) , (4,) , (8,6,7) , (1,) , (3,4,6,7)]\n",
        "i = 0\n",
        "while i < len(a) :\n",
        " if len(a[i]) == 2 :\n",
        "   a.pop(i)\n",
        " else :\n",
        "    i = i + 1\n",
        "    print(a)"
      ],
      "metadata": {
        "colab": {
          "base_uri": "https://localhost:8080/"
        },
        "id": "9kJz0VBl7fK6",
        "outputId": "5e17cae7-27f4-4f9f-c603-2dea261a32ce"
      },
      "execution_count": null,
      "outputs": [
        {
          "output_type": "stream",
          "name": "stdout",
          "text": [
            "[(4,), (8, 6, 7), (1,), (3, 4, 6, 7)]\n",
            "[(4,), (8, 6, 7), (1,), (3, 4, 6, 7)]\n",
            "[(4,), (8, 6, 7), (1,), (3, 4, 6, 7)]\n",
            "[(4,), (8, 6, 7), (1,), (3, 4, 6, 7)]\n"
          ]
        }
      ]
    },
    {
      "cell_type": "markdown",
      "source": [
        "##Program to generate and print a dictionary that contains a number (between 1 and n) in the form (x, x*x).Sample Input: (n=5) :Expected Output : {1: 1, 2: 4, 3: 9, 4: 16, 5: 25}"
      ],
      "metadata": {
        "id": "-P8jRPCh_wAE"
      }
    },
    {
      "cell_type": "code",
      "source": [
        "a = [1,2,3,4,5]\n",
        "b = []\n",
        "for i in a : \n",
        "   c = (i,i*i) \n",
        "   b.append(c)\n",
        "   c = dict(b)\n",
        "print(c)\n",
        " \n",
        " \n"
      ],
      "metadata": {
        "colab": {
          "base_uri": "https://localhost:8080/"
        },
        "id": "7-rfhgNA_4-M",
        "outputId": "114bbcb7-2126-49bf-f2f4-d686f10ba128"
      },
      "execution_count": null,
      "outputs": [
        {
          "output_type": "stream",
          "name": "stdout",
          "text": [
            "{1: 1, 2: 4, 3: 9, 4: 16, 5: 25}\n"
          ]
        }
      ]
    },
    {
      "cell_type": "code",
      "source": [
        "##Program to remove a key from a dictionary\n",
        "\n",
        "myDict = {'a':1,'b':2,'c':3,'d':4}\n",
        "if 'a' in myDict: \n",
        "    del myDict['a']\n",
        "print(myDict)"
      ],
      "metadata": {
        "colab": {
          "base_uri": "https://localhost:8080/"
        },
        "id": "iwhTIg_Jy7zE",
        "outputId": "613a83dd-6191-4cb6-a9a7-b1e03c2cdf6f"
      },
      "execution_count": null,
      "outputs": [
        {
          "output_type": "stream",
          "name": "stdout",
          "text": [
            "{'b': 2, 'c': 3, 'd': 4}\n"
          ]
        }
      ]
    },
    {
      "cell_type": "code",
      "source": [
        "##Program to get the maximum and minimum value in a dictionary.\n",
        "\n",
        "a = {100,485,5738,4448,1000,378}\n",
        "print(max(a),min(a))"
      ],
      "metadata": {
        "colab": {
          "base_uri": "https://localhost:8080/"
        },
        "id": "usR-aBsyzLgY",
        "outputId": "0c737947-49a2-48c9-efae-d0b6e6e67916"
      },
      "execution_count": null,
      "outputs": [
        {
          "output_type": "stream",
          "name": "stdout",
          "text": [
            "5738 100\n"
          ]
        }
      ]
    },
    {
      "cell_type": "code",
      "source": [
        "##Program to perform operations on string using unicodes ,splitting of string,accessing elements of string using locations\n",
        "\n",
        "a= \"shr caption is kane willimson\"\n",
        "print(a.split())\n",
        "print(a[2:8])"
      ],
      "metadata": {
        "colab": {
          "base_uri": "https://localhost:8080/"
        },
        "id": "WLoxJ2e1zkCt",
        "outputId": "4638bffe-22b1-4688-bb27-17afefac6a66"
      },
      "execution_count": null,
      "outputs": [
        {
          "output_type": "stream",
          "name": "stdout",
          "text": [
            "['shr', 'caption', 'is', 'kane', 'willimson']\n",
            "r capt\n"
          ]
        }
      ]
    },
    {
      "cell_type": "code",
      "source": [
        "##Program for Counting occurrence of a certain element in a string, getting indexes that have matching elements\n",
        "\n",
        "a= \"srh won by 9 wickets against rcb\"\n",
        "print(p.count(\"i\"))"
      ],
      "metadata": {
        "colab": {
          "base_uri": "https://localhost:8080/"
        },
        "id": "mAEhJj4Vz86P",
        "outputId": "cb0ea83c-6d3a-4207-e6ec-d7527ee42e6a"
      },
      "execution_count": null,
      "outputs": [
        {
          "output_type": "stream",
          "name": "stdout",
          "text": [
            "2\n"
          ]
        }
      ]
    },
    {
      "cell_type": "code",
      "source": [
        "##Program for replacing one substring by another\n",
        "\n",
        "p=\"kanr willamson\"\n",
        "print (p.replace(\"r\" , \"e\" ))"
      ],
      "metadata": {
        "colab": {
          "base_uri": "https://localhost:8080/"
        },
        "id": "u5RsXgqI0ny7",
        "outputId": "346b6c5b-5e4c-4276-b036-549221a089ec"
      },
      "execution_count": null,
      "outputs": [
        {
          "output_type": "stream",
          "name": "stdout",
          "text": [
            "kane willamson\n"
          ]
        }
      ]
    },
    {
      "cell_type": "code",
      "source": [
        "##Program to Acronym generator for any user input \n",
        "\n",
        "import random\n",
        "a=input(\"enter the command \")\n",
        "if \"kane\"==a:\n",
        "    for x in range(6):\n",
        "        a=random.randint(1,6)\n",
        "        print(a)"
      ],
      "metadata": {
        "colab": {
          "base_uri": "https://localhost:8080/"
        },
        "id": "lcKlJOAn1GrB",
        "outputId": "f8469994-01bc-489a-b160-585aaa8a25fc"
      },
      "execution_count": null,
      "outputs": [
        {
          "output_type": "stream",
          "name": "stdout",
          "text": [
            "enter the command kane\n",
            "4\n",
            "1\n",
            "5\n",
            "6\n",
            "6\n",
            "2\n"
          ]
        }
      ]
    },
    {
      "cell_type": "code",
      "source": [
        "##Python function that accepts a string and calculates the number of uppercase letters and lowercase letters.\n",
        "\n",
        "def string(a):\n",
        "    b=0;c=0\n",
        "    for x in a:\n",
        "        if x.isupper():\n",
        "           b=b+1\n",
        "        else:\n",
        "           c=c+1\n",
        "    print(\"the lower values\", b)\n",
        "    print(\"the upper values\", c)\n",
        "\n",
        "string(\"KANEwillimson\")"
      ],
      "metadata": {
        "colab": {
          "base_uri": "https://localhost:8080/"
        },
        "id": "gyTggKgT1npA",
        "outputId": "17df4ab1-36b6-42c7-8ed5-e82e842aa1a2"
      },
      "execution_count": null,
      "outputs": [
        {
          "output_type": "stream",
          "name": "stdout",
          "text": [
            "the lower values 4\n",
            "the upper values 9\n"
          ]
        }
      ]
    },
    {
      "cell_type": "code",
      "source": [
        "##Program to count the number of strings where the string length is 2 or more and the first and last character are same from a given list of strings\n",
        "\n",
        "a=['abc', 'xyz', 'aba', '1221' ]\n",
        "c=0\n",
        "for x in a :\n",
        "    if len(x)>=2:\n",
        "        if x[0]==x[-1]:\n",
        "            c=c+1\n",
        "print(\"the string of length 2 is\",c)"
      ],
      "metadata": {
        "colab": {
          "base_uri": "https://localhost:8080/"
        },
        "id": "rVKTBC0u2oqa",
        "outputId": "1a098890-3def-40e6-bd54-80b62b8f7910"
      },
      "execution_count": null,
      "outputs": [
        {
          "output_type": "stream",
          "name": "stdout",
          "text": [
            "the string of length 2 is 2\n"
          ]
        }
      ]
    }
  ]
}